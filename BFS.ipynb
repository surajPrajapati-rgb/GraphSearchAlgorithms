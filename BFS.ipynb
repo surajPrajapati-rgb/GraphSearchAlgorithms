{
 "cells": [
  {
   "cell_type": "markdown",
   "metadata": {},
   "source": [
    "## Breadth-First Search (BFS) - Simplified\n",
    "\n",
    "\n",
    "Breadth-First Search, often abbreviated as BFS, is a way to explore or search through a structure like a tree or a graph. Here's a simple breakdown of how it works:\n",
    "\n",
    "**1.** BFS begins at the root or starting point.  \n",
    "**2.** BFS checks all nodes or adjacent node at the current level before moving down to the next level.  \n",
    "**3.** It always expands the node that hasn't been explored and is closest to the starting point.  \n",
    "**4.** When BFS finds a path, it's the shortest one because it hasn't dived deep without checking all options at the current level.  \n",
    "\n",
    "\n",
    "\n"
   ]
  },
  {
   "cell_type": "markdown",
   "metadata": {},
   "source": [
    "## Sample data for Testing BFS"
   ]
  },
  {
   "cell_type": "code",
   "execution_count": 3,
   "metadata": {},
   "outputs": [],
   "source": [
    "# tree graph (undirected) \n",
    "tree_graph = {\n",
    "    \"Frankfurt\": [\"Mainz\", \"Wurtzburg\", \"Kassel\"], \n",
    "    \"Mainz\": [\"Karlsruhe\", \"Frankfurt\"], \n",
    "    \"Wurtzburg\": [\"Frankfurt\", \"Nurnberg\", \"Erfurt\"], \n",
    "    \"Kassel\": [\"Frankfurt\", \"Munich\"],\n",
    "    \"Karlsruhe\": [\"Augsburg\", \"Mainz\"],  \n",
    "    \"Nurnberg\": [\"Stuttgart\", \"Wurtzburg\"],\n",
    "    \"Erfurt\": [\"Wurtzburg\"],\n",
    "    \"Munich\": [\"Kassel\"],\n",
    "    \"Augsburg\": [\"Karlsruhe\"],\n",
    "    \"Stuttgart\": [\"Nurnberg\"]\n",
    "}\n",
    "# undircted graph of romania\n",
    "romania_map = {\n",
    "    'Arad': ['Zerind', 'Sibiu', 'Timisoara'],\n",
    "    'Zerind': ['Arad', 'Oradea'],\n",
    "    'Oradea': ['Zerind', 'Sibiu'],\n",
    "    'Sibiu': ['Arad', 'Oradea', 'Fagaras', 'Rimnicu'],\n",
    "    'Timisoara': ['Arad', 'Lugoj'],\n",
    "    'Lugoj': ['Timisoara', 'Mehadia'],\n",
    "    'Mehadia': ['Lugoj', 'Dobreta'],\n",
    "    'Dobreta': ['Mehadia', 'Craiova'],\n",
    "    'Craiova': ['Dobreta', 'Rimnicu', 'Pitesti'],\n",
    "    'Rimnicu': ['Sibiu', 'Craiova', 'Pitesti'],\n",
    "    'Fagaras': ['Sibiu', 'Bucharest'],\n",
    "    'Pitesti': ['Rimnicu', 'Craiova', 'Bucharest'],\n",
    "    'Bucharest': ['Fagaras', 'Pitesti', 'Giurgiu', 'Urziceni'],\n",
    "    'Giurgiu': ['Bucharest'],\n",
    "    'Urziceni': ['Bucharest', 'Vaslui', 'Hirsova'],\n",
    "    'Hirsova': ['Urziceni', 'Eforie'],\n",
    "    'Eforie': ['Hirsova'],\n",
    "    'Vaslui': ['Urziceni', 'Iasi'],\n",
    "    'Iasi': ['Vaslui', 'Neamt'],\n",
    "    'Neamt': ['Iasi']\n",
    "}\n"
   ]
  },
  {
   "cell_type": "markdown",
   "metadata": {},
   "source": [
    "## 1. Full graph traversal for BFS"
   ]
  },
  {
   "cell_type": "code",
   "execution_count": 4,
   "metadata": {},
   "outputs": [
    {
     "name": "stdout",
     "output_type": "stream",
     "text": [
      "['Neamt']\n",
      "Neamt\n",
      "['Iasi']\n",
      "Iasi\n",
      "['Vaslui']\n",
      "Vaslui\n",
      "['Urziceni']\n",
      "Urziceni\n",
      "['Bucharest', 'Hirsova']\n",
      "Bucharest\n",
      "['Hirsova', 'Fagaras', 'Pitesti', 'Giurgiu']\n",
      "Hirsova\n",
      "['Fagaras', 'Pitesti', 'Giurgiu', 'Eforie']\n",
      "Fagaras\n",
      "['Pitesti', 'Giurgiu', 'Eforie', 'Sibiu']\n",
      "Pitesti\n",
      "['Giurgiu', 'Eforie', 'Sibiu', 'Rimnicu', 'Craiova']\n",
      "Giurgiu\n",
      "['Eforie', 'Sibiu', 'Rimnicu', 'Craiova']\n",
      "Eforie\n",
      "['Sibiu', 'Rimnicu', 'Craiova']\n",
      "Sibiu\n",
      "['Rimnicu', 'Craiova', 'Arad', 'Oradea']\n",
      "Rimnicu\n",
      "['Craiova', 'Arad', 'Oradea']\n",
      "Craiova\n",
      "['Arad', 'Oradea', 'Dobreta']\n",
      "Arad\n",
      "['Oradea', 'Dobreta', 'Zerind', 'Timisoara']\n",
      "Oradea\n",
      "['Dobreta', 'Zerind', 'Timisoara']\n",
      "Dobreta\n",
      "['Zerind', 'Timisoara', 'Mehadia']\n",
      "Zerind\n",
      "['Timisoara', 'Mehadia']\n",
      "Timisoara\n",
      "['Mehadia', 'Lugoj']\n",
      "Mehadia\n",
      "['Lugoj']\n",
      "Lugoj\n",
      "['Neamt', 'Iasi', 'Vaslui', 'Urziceni', 'Bucharest', 'Hirsova', 'Fagaras', 'Pitesti', 'Giurgiu', 'Eforie', 'Sibiu', 'Rimnicu', 'Craiova', 'Arad', 'Oradea', 'Dobreta', 'Zerind', 'Timisoara', 'Mehadia', 'Lugoj']\n"
     ]
    }
   ],
   "source": [
    "start = \"Neamt\" # sample starting node\n",
    "\n",
    "def BFS(graph, start):\n",
    "        queue_list = [] # a list to store the unexplored node\n",
    "        visited = [start] # to store the visited node\n",
    "        queue_list.append(start) \n",
    "        \n",
    "        while queue_list: # iterate till all unexplored node has been explored\n",
    "            print(queue_list)\n",
    "            start = queue_list.pop(0) # Remove the first node from queue list \n",
    "            print(start)\n",
    "\n",
    "            for i in graph[start]: # looping over the adjacent node\n",
    "                if i not in visited: # skip the visited node\n",
    "                    visited.append(i) # marked it as visited\n",
    "                    queue_list.append(i) # Adding the not explored node\n",
    "        print(visited)\n",
    "    \n",
    "BFS(romania_map, start)"
   ]
  },
  {
   "cell_type": "markdown",
   "metadata": {},
   "source": []
  },
  {
   "cell_type": "markdown",
   "metadata": {},
   "source": [
    "## 2. Graph traversal from start node to target node "
   ]
  },
  {
   "cell_type": "code",
   "execution_count": 8,
   "metadata": {},
   "outputs": [
    {
     "name": "stdout",
     "output_type": "stream",
     "text": [
      "['Arad', 'Sibiu', 'Fagaras', 'Bucharest']\n"
     ]
    }
   ],
   "source": [
    "def BFS(graph, start, target):\n",
    "    queue_list = [] # a list to store the unexplored node\n",
    "    visited = [] # store the visited path\n",
    "\n",
    "    # Start with a path from the starting point\n",
    "    queue_list.append([start])\n",
    "\n",
    "    while queue_list: # iterate till all unexplored node has been explored\n",
    "        # Get the first path from the queue\n",
    "        path = queue_list.pop(0)\n",
    "\n",
    "        # Get the last node from the path\n",
    "        node = path[-1]\n",
    "\n",
    "        # Check if the node has been visited before. If so, skip it.\n",
    "        if node in visited:\n",
    "            continue\n",
    "\n",
    "        # mark node as visited\n",
    "        visited.append(node)\n",
    "\n",
    "        # check if node is the target, if so return the path\n",
    "        if node == target:\n",
    "            return path\n",
    "\n",
    "        # Get neighbors of the node\n",
    "        for i in graph[node]:\n",
    "            new_path = list(path)\n",
    "            if i not in visited:\n",
    "                new_path.append(i) \n",
    "                queue_list.append(new_path) # Adding the not explored node\n",
    "    return None  \n",
    "\n",
    "# sample input\n",
    "start = \"Arad\"\n",
    "target = \"Bucharest\"\n",
    "print(BFS(romania_map, start, target))\n"
   ]
  },
  {
   "cell_type": "code",
   "execution_count": null,
   "metadata": {},
   "outputs": [],
   "source": []
  }
 ],
 "metadata": {
  "kernelspec": {
   "display_name": "Python 3 (ipykernel)",
   "language": "python",
   "name": "python3"
  },
  "language_info": {
   "codemirror_mode": {
    "name": "ipython",
    "version": 3
   },
   "file_extension": ".py",
   "mimetype": "text/x-python",
   "name": "python",
   "nbconvert_exporter": "python",
   "pygments_lexer": "ipython3",
   "version": "3.10.12"
  }
 },
 "nbformat": 4,
 "nbformat_minor": 2
}
