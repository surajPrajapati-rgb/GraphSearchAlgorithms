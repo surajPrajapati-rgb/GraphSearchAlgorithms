{
 "cells": [
  {
   "cell_type": "markdown",
   "metadata": {},
   "source": [
    "# Depth-First Search (DFS) - Simplified  \n",
    "\n",
    "Depth-First Search, commonly known as DFS, is a technique used to explore tree or graph data structures. Here's a quick way to understand how it operates:\n",
    "\n",
    "**1.** Instead of checking all nodes or neighbors at the current level, DFS goes down to the deepest part of the tree or graph first.  \n",
    "**2.** It always tries to go as deep as possible from its current position before considering neighbors at the current depth or backing up.  \n",
    "**3.** Once DFS hits a node with a dead-end, it will backtrack to find a node with unexplored paths and then dive deep again.  \n",
    "**4.** Think of it as exploring a multi-story building by going straight to the basement, and only then exploring the other floors if you don't find what you're looking for.  \n",
    "  "
   ]
  },
  {
   "cell_type": "markdown",
   "metadata": {},
   "source": [
    "## A sample Cyclic and Acyclic graph "
   ]
  },
  {
   "cell_type": "code",
   "execution_count": 1,
   "metadata": {},
   "outputs": [],
   "source": [
    "# Acyclic undirctional tree graph\n",
    "tree_graph = {\n",
    "    \"Frankfurt\": [\"Mainz\", \"Wurtzburg\", \"Kassel\"], \n",
    "    \"Mainz\": [\"Karlsruhe\", \"Frankfurt\"], \n",
    "    \"Wurtzburg\": [\"Frankfurt\", \"Nurnberg\", \"Erfurt\"], \n",
    "    \"Kassel\": [\"Frankfurt\", \"Munich\"],\n",
    "    \"Karlsruhe\": [\"Augsburg\", \"Mainz\", \"suraj\"],  \n",
    "    \"Nurnberg\": [\"Stuttgart\", \"Wurtzburg\"],\n",
    "    \"Erfurt\": [\"Wurtzburg\"],\n",
    "    \"Munich\": [\"Kassel\"],\n",
    "    \"Augsburg\": [\"Karlsruhe\"],\n",
    "    \"Stuttgart\": [\"Nurnberg\"],\n",
    "    \"suraj\": [\"Karlsruhe\"]\n",
    "}\n",
    "\n",
    "# Cyclic undirectinal graph of Romania city\n",
    "romania_map = {\n",
    "    'Arad': ['Timisoara','Sibiu', 'Zerind'],\n",
    "    'Zerind': ['Arad', 'Oradea'],\n",
    "    'Oradea': ['Zerind', 'Sibiu'],\n",
    "    'Sibiu': ['Arad', 'Oradea', 'Fagaras', 'Rimnicu'],\n",
    "    'Timisoara': ['Arad', 'Lugoj'],\n",
    "    'Lugoj': ['Timisoara', 'Mehadia'],\n",
    "    'Mehadia': ['Lugoj', 'Dobreta'],\n",
    "    'Dobreta': ['Mehadia', 'Craiova'],\n",
    "    'Craiova': ['Dobreta', 'Rimnicu', 'Pitesti'],\n",
    "    'Rimnicu': ['Sibiu', 'Craiova', 'Pitesti'],\n",
    "    'Fagaras': ['Sibiu', 'Bucharest'],\n",
    "    'Pitesti': ['Rimnicu', 'Craiova', 'Bucharest'],\n",
    "    'Bucharest': ['Fagaras', 'Pitesti', 'Giurgiu', 'Urziceni'],\n",
    "    'Giurgiu': ['Bucharest'],\n",
    "    'Urziceni': ['Bucharest', 'Vaslui', 'Hirsova'],\n",
    "    'Hirsova': ['Urziceni', 'Eforie'],\n",
    "    'Eforie': ['Hirsova'],\n",
    "    'Vaslui': ['Urziceni', 'Iasi'],\n",
    "    'Iasi': ['Vaslui', 'Neamt'],\n",
    "    'Neamt': ['Iasi']\n",
    "}\n"
   ]
  },
  {
   "cell_type": "code",
   "execution_count": 1,
   "metadata": {},
   "outputs": [],
   "source": []
  },
  {
   "cell_type": "markdown",
   "metadata": {},
   "source": [
    "## 1. Full graph traversal for DFS"
   ]
  },
  {
   "cell_type": "code",
   "execution_count": 5,
   "metadata": {},
   "outputs": [
    {
     "name": "stdout",
     "output_type": "stream",
     "text": [
      "['Arad', 'Timisoara', 'Lugoj', 'Mehadia', 'Dobreta', 'Craiova', 'Rimnicu', 'Sibiu', 'Oradea', 'Zerind', 'Fagaras', 'Bucharest', 'Pitesti', 'Giurgiu', 'Urziceni', 'Vaslui', 'Iasi', 'Neamt', 'Hirsova', 'Eforie']\n"
     ]
    },
    {
     "data": {
      "text/plain": [
       "20"
      ]
     },
     "execution_count": 5,
     "metadata": {},
     "output_type": "execute_result"
    }
   ],
   "source": [
    "visited_list = []\n",
    "def Depth_First_Search(graph, start): \n",
    "\n",
    "    if start not in visited_list: \n",
    "        visited_list.append(start) # add the non visited node to visited list\n",
    "\n",
    "        for adjacent in graph[start]: # iterating through adjacent node of current node\n",
    "            Depth_First_Search(graph, adjacent) # recursive call to DFS to dive into deepest\n",
    "\n",
    "    return visited_list\n",
    "\n",
    "start_node = \"Arad\"\n",
    "visited = Depth_First_Search(romania_map, start_node)\n",
    "print(visited)\n",
    "len(visited)"
   ]
  },
  {
   "cell_type": "markdown",
   "metadata": {},
   "source": [
    "## 2. Traversed path stored between the starting node and ending node using DFS"
   ]
  },
  {
   "cell_type": "code",
   "execution_count": 7,
   "metadata": {},
   "outputs": [
    {
     "name": "stdout",
     "output_type": "stream",
     "text": [
      "['Arad', 'Timisoara', 'Lugoj', 'Mehadia', 'Dobreta', 'Craiova', 'Rimnicu', 'Sibiu', 'Fagaras', 'Bucharest']\n"
     ]
    }
   ],
   "source": [
    "visited_list=[]\n",
    "path_list = []\n",
    "def DFS(graph, start, target):\n",
    "    # Base conditions: if start and target node matches then it returns the path\n",
    "    if start == target:\n",
    "        path_list.append(start)\n",
    "        return path_list\n",
    "    # if the current node is not in visited list, then add then in both visited and path list\n",
    "    if start not in visited_list:\n",
    "        visited_list.append(start)\n",
    "        path_list.append(start)\n",
    "\n",
    "        # iterating through adjacent node\n",
    "        for adjacent in graph[start]: \n",
    "            if adjacent not in visited_list:\n",
    "                #recursivly call to DFS for adjacent node\n",
    "                path = DFS(graph, adjacent, target) # tha path variable will store path only if it hits the base conditions and base case will return the actual path\n",
    "                if path: # if path found\n",
    "                    return path\n",
    "        # backtrack, if node has nowhere to move farward\n",
    "        path_list.pop()\n",
    "        \n",
    "start_node = \"Arad\"\n",
    "target_node = \"Bucharest\"\n",
    "print(DFS(romania_map, start_node, target_node))"
   ]
  },
  {
   "cell_type": "code",
   "execution_count": null,
   "metadata": {},
   "outputs": [],
   "source": []
  }
 ],
 "metadata": {
  "kernelspec": {
   "display_name": "Python 3 (ipykernel)",
   "language": "python",
   "name": "python3"
  },
  "language_info": {
   "codemirror_mode": {
    "name": "ipython",
    "version": 3
   },
   "file_extension": ".py",
   "mimetype": "text/x-python",
   "name": "python",
   "nbconvert_exporter": "python",
   "pygments_lexer": "ipython3",
   "version": "3.10.12"
  }
 },
 "nbformat": 4,
 "nbformat_minor": 2
}
